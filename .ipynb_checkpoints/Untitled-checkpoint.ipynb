{
 "cells": [
  {
   "cell_type": "code",
   "execution_count": 1,
   "id": "53ac7c71",
   "metadata": {},
   "outputs": [],
   "source": [
    "import os\n",
    "import torch\n",
    "import pandas as pd\n",
    "from torchvision import transforms,datasets\n",
    "from torchvision.io import read_image\n",
    "from torch.utils.data import Dataset\n",
    "from torchvision.transforms import ToTensor\n",
    "#from skimage import transform\n",
    "from PIL import Image"
   ]
  },
  {
   "cell_type": "code",
   "execution_count": 2,
   "id": "704446bc",
   "metadata": {},
   "outputs": [],
   "source": [
    "img_dir = \"./data/train/\"\n",
    "file_names = os.listdir(img_dir)"
   ]
  },
  {
   "cell_type": "code",
   "execution_count": 3,
   "id": "6655fd0c",
   "metadata": {},
   "outputs": [],
   "source": [
    "class MNIST(Dataset):\n",
    "    \"\"\" MNIST dataset\n",
    "\n",
    "        To write custom datasets, refer to\n",
    "        https://pytorch.org/tutorials/beginner/data_loading_tutorial.html\n",
    "\n",
    "    Args:\n",
    "        data_dir: directory path containing images\n",
    "\n",
    "    Note:\n",
    "        1) Each image should be preprocessed as follows:\n",
    "            - First, all values should be in a range of [0,1]\n",
    "            - Substract mean of 0.1307, and divide by std 0.3081\n",
    "            - These preprocessing can be implemented using torchvision.transforms\n",
    "        2) Labels can be obtained from filenames: {number}_{label}.png\n",
    "        \n",
    "    \"\"\"\n",
    "    \n",
    "    \n",
    "    def __init__(self, df, img_dir, transform=None, target_transform=None):\n",
    "        self.img_labels = df\n",
    "        self.img_dir = img_dir\n",
    "        self.transform = transform\n",
    "        self.target_transform = target_transform\n",
    "        # write your codes here\n",
    "\n",
    "    def __len__(self):\n",
    "        return len(self.img_labels)\n",
    "        # write your codes here\n",
    "\n",
    "    def __getitem__(self, idx):\n",
    "        img_path = os.path.join(self.img_dir, self.img_labels.index[idx])\n",
    "        image = read_image(img_path)\n",
    "        label = self.img_labels.iloc[idx, 1]\n",
    "        if self.transform:\n",
    "            image = self.transform(image)\n",
    "        if self.target_transform:            label = self.target_transform(label)\n",
    "        sample = {\"image\": image, \"label\": label}\n",
    "        return sample"
   ]
  },
  {
   "cell_type": "code",
   "execution_count": 4,
   "id": "2679dc37",
   "metadata": {},
   "outputs": [],
   "source": [
    "def extract_label(file_name):\n",
    "    return int(file_name.split('_')[1].split('.')[0])\n",
    "\n",
    "# DataFrame 생성\n",
    "df = pd.DataFrame({'file_name': file_names})\n",
    "\n",
    "# 'label' 컬럼 추가\n",
    "df['label'] = df['file_name'].apply(extract_label)\n",
    "\n",
    "# 'file_name'을 index로 설정\n",
    "df.set_index('file_name', inplace=True)"
   ]
  },
  {
   "cell_type": "code",
   "execution_count": 5,
   "id": "8b45a51a",
   "metadata": {},
   "outputs": [],
   "source": [
    "data = MNIST(df = df, img_dir= img_dir, transform = ToTensor)"
   ]
  },
  {
   "cell_type": "code",
   "execution_count": 40,
   "id": "ddf174b6",
   "metadata": {},
   "outputs": [],
   "source": [
    "img_path = os.path.join(img_dir, df.index[0])"
   ]
  },
  {
   "cell_type": "code",
   "execution_count": 50,
   "id": "7c36bf5e",
   "metadata": {},
   "outputs": [],
   "source": [
    "image = read_image(img_path)"
   ]
  },
  {
   "cell_type": "code",
   "execution_count": 52,
   "id": "2d0af814",
   "metadata": {},
   "outputs": [],
   "source": [
    "image = image/256"
   ]
  },
  {
   "cell_type": "code",
   "execution_count": 53,
   "id": "cf8525ef",
   "metadata": {},
   "outputs": [
    {
     "data": {
      "text/plain": [
       "tensor(0.1371)"
      ]
     },
     "execution_count": 53,
     "metadata": {},
     "output_type": "execute_result"
    }
   ],
   "source": [
    "sum(sum(sum(image)))/(28*28)"
   ]
  },
  {
   "cell_type": "code",
   "execution_count": null,
   "id": "c32ed196",
   "metadata": {},
   "outputs": [],
   "source": []
  },
  {
   "cell_type": "code",
   "execution_count": null,
   "id": "ddfda15b",
   "metadata": {},
   "outputs": [],
   "source": []
  }
 ],
 "metadata": {
  "kernelspec": {
   "display_name": "Python 3 (ipykernel)",
   "language": "python",
   "name": "python3"
  },
  "language_info": {
   "codemirror_mode": {
    "name": "ipython",
    "version": 3
   },
   "file_extension": ".py",
   "mimetype": "text/x-python",
   "name": "python",
   "nbconvert_exporter": "python",
   "pygments_lexer": "ipython3",
   "version": "3.11.5"
  }
 },
 "nbformat": 4,
 "nbformat_minor": 5
}
